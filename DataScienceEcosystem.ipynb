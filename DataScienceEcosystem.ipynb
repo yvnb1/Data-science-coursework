{
 "cells": [
  {
   "cell_type": "markdown",
   "id": "4bdf6cc1-fcde-4f8f-903f-e9105233e230",
   "metadata": {},
   "source": [
    "# Data Science Tools and Ecosystem"
   ]
  },
  {
   "cell_type": "markdown",
   "id": "30e4ab06-78fd-4786-9c8c-a650595c6d9a",
   "metadata": {},
   "source": [
    "## In this notebook, Data Science Tools and Ecosystem are summarized."
   ]
  },
  {
   "cell_type": "markdown",
   "id": "4308cd00-9d9d-4e38-afd3-9cb0adab9ba2",
   "metadata": {},
   "source": [
    "## **Objectives:**\n",
    "- list popular languages for data science\n",
    "- list commonly used libraries used by data scientists\n",
    "- show examples of evaluating arithmetic expressions\n"
   ]
  },
  {
   "cell_type": "markdown",
   "id": "a657b31f-3790-4131-aabf-147b24ff9217",
   "metadata": {},
   "source": [
    "## Some of the popular languages that Data Scientists use are:\n",
    "1. Python\n",
    "2. R\n",
    "3. Java\n",
    "4. C++\n",
    "5. SQL"
   ]
  },
  {
   "cell_type": "markdown",
   "id": "516ce47b-8431-4461-bc83-60be14578c51",
   "metadata": {},
   "source": [
    "## Some of the commonly used libraries used by Data Scientists include:\n",
    "1. NumPy\n",
    "2. Pandas\n",
    "3. ggplot"
   ]
  },
  {
   "cell_type": "markdown",
   "id": "214f2902-26fe-4de0-8fdc-0e456bfd7e7f",
   "metadata": {},
   "source": [
    "## Data Science Tools\n",
    "|Data Science Tools|\n",
    "|------------------|\n",
    "|JupyterLab|\n",
    "|GitLab|\n",
    "|R Studio|"
   ]
  },
  {
   "cell_type": "markdown",
   "id": "b8c29ef0-0cc2-426a-8f84-f58d55f8d21f",
   "metadata": {},
   "source": [
    "### Below are a few examples of evaluating arithmetic expressions in Python"
   ]
  },
  {
   "cell_type": "code",
   "execution_count": 1,
   "id": "b5e93965-6e29-494a-a852-7cd55ea25107",
   "metadata": {
    "tags": []
   },
   "outputs": [
    {
     "data": {
      "text/plain": [
       "17"
      ]
     },
     "execution_count": 1,
     "metadata": {},
     "output_type": "execute_result"
    }
   ],
   "source": [
    "# This a simple arithmetic expression to mutiply then add integers\n",
    "(3*4)+5"
   ]
  },
  {
   "cell_type": "code",
   "execution_count": 13,
   "id": "b346453b-14b8-46ba-9d9c-9b3bd1170ef3",
   "metadata": {
    "tags": []
   },
   "outputs": [
    {
     "name": "stdout",
     "output_type": "stream",
     "text": [
      "200 minutes= 3 hours\n"
     ]
    }
   ],
   "source": [
    "# This will convert 200 minutes to hours by diving by 60\n",
    "minutes = 200\n",
    "hours = minutes // 60\n",
    "print(\"200 minutes=\", hours, \"hours\")\n"
   ]
  },
  {
   "cell_type": "markdown",
   "id": "044aeea9-888b-4f90-b7fa-abdcb2b0190a",
   "metadata": {},
   "source": [
    "## Author\n",
    "##### Yvonne Booth"
   ]
  }
 ],
 "metadata": {
  "kernelspec": {
   "display_name": "Python",
   "language": "python",
   "name": "conda-env-python-py"
  },
  "language_info": {
   "codemirror_mode": {
    "name": "ipython",
    "version": 3
   },
   "file_extension": ".py",
   "mimetype": "text/x-python",
   "name": "python",
   "nbconvert_exporter": "python",
   "pygments_lexer": "ipython3",
   "version": "3.7.12"
  }
 },
 "nbformat": 4,
 "nbformat_minor": 5
}
